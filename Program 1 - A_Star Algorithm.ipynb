{
 "cells": [
  {
   "cell_type": "code",
   "execution_count": 4,
   "metadata": {},
   "outputs": [
    {
     "name": "stdout",
     "output_type": "stream",
     "text": [
      "['S', 'B', 'G']\n"
     ]
    },
    {
     "data": {
      "text/plain": [
       "['S', 'B', 'G']"
      ]
     },
     "execution_count": 4,
     "metadata": {},
     "output_type": "execute_result"
    }
   ],
   "source": [
    "graph_nodes = {\n",
    "    'S': [('A', 1), ('B', 5), ('C', 8)],\n",
    "    'A': [('D', 3), ('E', 7), ('G', 9)],\n",
    "    'B': [('G', 4)],\n",
    "    'C': [('G', 5)],\n",
    "    'G': None,\n",
    "    'D': None,\n",
    "    'E': None\n",
    "}\n",
    "\n",
    "heuristic_values = {\n",
    "    'S': 8,\n",
    "    'A': 8,\n",
    "    'B': 4,\n",
    "    'C': 5,\n",
    "    'G': 0,\n",
    "    'D': 99999,\n",
    "    'E': 99999\n",
    "}\n",
    "\n",
    "def get_graph_nodes(node):\n",
    "    if node in graph_nodes:\n",
    "        return graph_nodes[node]\n",
    "    else:\n",
    "        return None\n",
    "    \n",
    "def get_heuristic_values(node):\n",
    "    if node in graph_nodes:\n",
    "        return heuristic_values[node]\n",
    "    else:\n",
    "        return None\n",
    "    \n",
    "def a_star(start_node, end_node):\n",
    "    open_set = set(start_node)\n",
    "    closed_set = set()\n",
    "    \n",
    "    g = {}\n",
    "    parents = {}\n",
    "    g[start_node] = 0\n",
    "    parents[start_node] = start_node\n",
    "    \n",
    "    while len(open_set) > 0:\n",
    "        best = None\n",
    "        for curr in open_set:\n",
    "            if best == None or g[curr] + get_heuristic_values(curr) < g[best] + get_heuristic_values(best):\n",
    "                best = curr\n",
    "            \n",
    "        if best == end_node or graph_nodes[best] == None:\n",
    "            pass\n",
    "        else:\n",
    "            for (succ, weight) in get_graph_nodes(best):\n",
    "                if succ not in open_set and succ not in closed_set:\n",
    "                    open_set.add(succ)\n",
    "                    g[succ] = g[best] + weight\n",
    "                    parents[succ] = best\n",
    "                else:\n",
    "                    if g[succ] > g[best] + weight:\n",
    "                        g[succ] = g[best] + weight\n",
    "                        parents[succ] = best\n",
    "                        \n",
    "                        if succ in closed_set:\n",
    "                            open_set.add(succ)\n",
    "                            closed_set.remove(succ)\n",
    "        if best == None:\n",
    "            return None\n",
    "        \n",
    "        if best == end_node:\n",
    "            path = []\n",
    "            while parents[best] != best:\n",
    "                path.append(best)\n",
    "                best = parents[best]\n",
    "            path.append(start_node)\n",
    "            path.reverse()\n",
    "            print(\"{}\".format(path))\n",
    "            return path\n",
    "        open_set.remove(best)\n",
    "        closed_set.add(best)\n",
    "    print(\"Path doesn't exist\")\n",
    "    return None\n",
    "a_star('S', 'G')"
   ]
  },
  {
   "cell_type": "code",
   "execution_count": null,
   "metadata": {},
   "outputs": [],
   "source": []
  }
 ],
 "metadata": {
  "kernelspec": {
   "display_name": "Python 3",
   "language": "python",
   "name": "python3"
  },
  "language_info": {
   "codemirror_mode": {
    "name": "ipython",
    "version": 3
   },
   "file_extension": ".py",
   "mimetype": "text/x-python",
   "name": "python",
   "nbconvert_exporter": "python",
   "pygments_lexer": "ipython3",
   "version": "3.8.12"
  }
 },
 "nbformat": 4,
 "nbformat_minor": 4
}
