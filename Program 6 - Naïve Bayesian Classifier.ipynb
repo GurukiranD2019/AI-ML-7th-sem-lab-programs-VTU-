{
 "cells": [
  {
   "cell_type": "code",
   "execution_count": 2,
   "metadata": {},
   "outputs": [
    {
     "name": "stdout",
     "output_type": "stream",
     "text": [
      "['No' 'Yes']\n",
      "{'No': 0.35714285714285715, 'Yes': 0.6428571428571429}\n",
      "{'Outlook': {'Sunny': {'No': 0.6, 'Yes': 0.2222222222222222}, 'Overcast': {'No': 0.0, 'Yes': 0.4444444444444444}, 'Rainy': {'No': 0.4, 'Yes': 0.3333333333333333}}, 'Temperature': {'Hot': {'No': 0.4, 'Yes': 0.2222222222222222}, 'Mild': {'No': 0.4, 'Yes': 0.4444444444444444}, 'Cool': {'No': 0.2, 'Yes': 0.3333333333333333}}, 'Humidity': {'High': {'No': 0.8, 'Yes': 0.3333333333333333}, 'Normal': {'No': 0.2, 'Yes': 0.6666666666666666}}, 'Windy': {False: {'No': 0.4, 'Yes': 0.6666666666666666}, True: {'No': 0.6, 'Yes': 0.3333333333333333}}}\n"
     ]
    }
   ],
   "source": [
    "import pandas as pd\n",
    "import numpy as np\n",
    "\n",
    "df=pd.read_csv('tennis.csv')\n",
    "cattribute=df.keys()[-1]\n",
    "\n",
    "cvalues=df[cattribute].unique()\n",
    "print(cvalues)\n",
    "\n",
    "pclass={}\n",
    "for value in cvalues:\n",
    "    pclass[value]=  df[cattribute][df[cattribute]==value].count()/len(df)\n",
    "print(pclass)\n",
    "\n",
    "finalprob={}\n",
    "for eachatt in df.keys()[:-1]:\n",
    "    finalprob[eachatt]={}\n",
    "    for eachpos in df[eachatt].unique():\n",
    "        finalprob[eachatt][eachpos]={}\n",
    "        for eachcval in cvalues:\n",
    "            finalprob[eachatt][eachpos][eachcval] = df[eachatt][df[eachatt]==eachpos][df[cattribute]==eachcval].count() / df[cattribute][df[cattribute]==eachcval].count()\n",
    "print(finalprob)"
   ]
  },
  {
   "cell_type": "code",
   "execution_count": 5,
   "metadata": {},
   "outputs": [
    {
     "name": "stdout",
     "output_type": "stream",
     "text": [
      "{'No': 0.02742857142857143, 'Yes': 0.007054673721340387}\n",
      "0.204582651391162\n",
      "0.7954173486088381\n"
     ]
    }
   ],
   "source": [
    "probyn={}\n",
    "for eachval in cvalues:\n",
    "    prob1=1\n",
    "    for eachatt in df.keys()[:-1]:\n",
    "        prob1*=finalprob[eachatt][df.iloc[0][eachatt]][eachval]\n",
    "    prob1=prob1*pclass[eachval]\n",
    "    probyn[eachval]=prob1\n",
    "print(probyn)\n",
    "\n",
    "yesprob=probyn['Yes']/(probyn['Yes']+probyn['No'])\n",
    "noprob=probyn['No']/(probyn['Yes']+probyn['No'])\n",
    "print(yesprob)\n",
    "print(noprob)"
   ]
  },
  {
   "cell_type": "code",
   "execution_count": null,
   "metadata": {},
   "outputs": [],
   "source": []
  }
 ],
 "metadata": {
  "kernelspec": {
   "display_name": "Python 3",
   "language": "python",
   "name": "python3"
  },
  "language_info": {
   "codemirror_mode": {
    "name": "ipython",
    "version": 3
   },
   "file_extension": ".py",
   "mimetype": "text/x-python",
   "name": "python",
   "nbconvert_exporter": "python",
   "pygments_lexer": "ipython3",
   "version": "3.8.12"
  }
 },
 "nbformat": 4,
 "nbformat_minor": 4
}
