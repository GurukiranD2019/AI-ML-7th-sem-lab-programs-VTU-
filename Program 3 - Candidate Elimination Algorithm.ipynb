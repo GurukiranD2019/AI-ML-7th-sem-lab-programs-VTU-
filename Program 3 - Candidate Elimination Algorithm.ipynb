{
 "cells": [
  {
   "cell_type": "code",
   "execution_count": 1,
   "metadata": {},
   "outputs": [
    {
     "name": "stdout",
     "output_type": "stream",
     "text": [
      "Iteration:  0\n",
      "General Hypothesis:  [['?', '?', '?', '?'], ['?', '?', '?', '?'], ['?', '?', '?', '?'], ['?', '?', '?', '?']]\n",
      "Specific Hypothesis:  ['Sunny' 'Hot' 'High' False]\n",
      "Iteration:  1\n",
      "General Hypothesis:  [['?', '?', '?', '?'], ['?', '?', '?', '?'], ['?', '?', '?', '?'], ['?', '?', '?', '?']]\n",
      "Specific Hypothesis:  ['Sunny' 'Hot' 'High' False]\n",
      "Iteration:  2\n",
      "General Hypothesis:  [['?', '?', '?', '?'], ['?', '?', '?', '?'], ['?', '?', '?', '?'], ['?', '?', '?', '?']]\n",
      "Specific Hypothesis:  ['Sunny' 'Hot' 'High' False]\n",
      "Iteration:  3\n",
      "General Hypothesis:  [['?', '?', '?', '?'], ['?', '?', '?', '?'], ['?', '?', '?', '?'], ['?', '?', '?', '?']]\n",
      "Specific Hypothesis:  ['Sunny' 'Hot' 'High' False]\n",
      "Iteration:  4\n",
      "General Hypothesis:  [['?', '?', '?', '?'], ['?', '?', '?', '?'], ['?', '?', '?', '?'], ['?', '?', '?', '?']]\n",
      "Specific Hypothesis:  ['Sunny' 'Hot' 'High' False]\n",
      "Iteration:  5\n",
      "General Hypothesis:  [['?', '?', '?', '?'], ['?', '?', '?', '?'], ['?', '?', '?', '?'], ['?', '?', '?', '?']]\n",
      "Specific Hypothesis:  ['Sunny' 'Hot' 'High' False]\n",
      "Iteration:  6\n",
      "General Hypothesis:  [['?', '?', '?', '?'], ['?', '?', '?', '?'], ['?', '?', '?', '?'], ['?', '?', '?', '?']]\n",
      "Specific Hypothesis:  ['Sunny' 'Hot' 'High' False]\n",
      "Iteration:  7\n",
      "General Hypothesis:  [['?', '?', '?', '?'], ['?', '?', '?', '?'], ['?', '?', '?', '?'], ['?', '?', '?', '?']]\n",
      "Specific Hypothesis:  ['Sunny' 'Hot' 'High' False]\n",
      "Iteration:  8\n",
      "General Hypothesis:  [['?', '?', '?', '?'], ['?', '?', '?', '?'], ['?', '?', '?', '?'], ['?', '?', '?', '?']]\n",
      "Specific Hypothesis:  ['Sunny' 'Hot' 'High' False]\n",
      "Iteration:  9\n",
      "General Hypothesis:  [['?', '?', '?', '?'], ['?', '?', '?', '?'], ['?', '?', '?', '?'], ['?', '?', '?', '?']]\n",
      "Specific Hypothesis:  ['Sunny' 'Hot' 'High' False]\n",
      "Iteration:  10\n",
      "General Hypothesis:  [['?', '?', '?', '?'], ['?', '?', '?', '?'], ['?', '?', '?', '?'], ['?', '?', '?', '?']]\n",
      "Specific Hypothesis:  ['Sunny' 'Hot' 'High' False]\n",
      "Iteration:  11\n",
      "General Hypothesis:  [['?', '?', '?', '?'], ['?', '?', '?', '?'], ['?', '?', '?', '?'], ['?', '?', '?', '?']]\n",
      "Specific Hypothesis:  ['Sunny' 'Hot' 'High' False]\n",
      "Iteration:  12\n",
      "General Hypothesis:  [['?', '?', '?', '?'], ['?', '?', '?', '?'], ['?', '?', '?', '?'], ['?', '?', '?', '?']]\n",
      "Specific Hypothesis:  ['Sunny' 'Hot' 'High' False]\n",
      "Iteration:  13\n",
      "General Hypothesis:  [['?', '?', '?', '?'], ['?', '?', '?', '?'], ['?', '?', '?', '?'], ['?', '?', '?', '?']]\n",
      "Specific Hypothesis:  ['Sunny' 'Hot' 'High' False]\n",
      "-----------------------------------------------------------------------------------------\n",
      "[['?', '?', '?', '?'], ['?', '?', '?', '?'], ['?', '?', '?', '?'], ['?', '?', '?', '?']]\n",
      "-----------------------------------------------------------------------------------------\n",
      "['Sunny' 'Hot' 'High' False]\n"
     ]
    }
   ],
   "source": [
    "import numpy as np\n",
    "import pandas as pd\n",
    "\n",
    "data = pd.read_csv(\"tennis.csv\")\n",
    "concepts = np.array(data.iloc[:, :-1])\n",
    "target = np.array(data.iloc[:, -1])\n",
    "specific_hypothesis = concepts[0].copy()\n",
    "general_hypothesis = [[\"?\" for i in range(len(specific_hypothesis))] for j in range(len(specific_hypothesis))]\n",
    "def learn(concepts, target, specific_hypothesis, general_hypothesis):\n",
    "    for index, sample in enumerate(concepts):\n",
    "        if target[index] == 'yes':\n",
    "            for attribute in range(len(specific_hypothesis)):\n",
    "                if sample[attribute] != specific_hypothesis[attribute]:\n",
    "                    specific_hypothesis[attribute] = '?'\n",
    "                    general_hypothesis[attribute][attribute] = '?'\n",
    "        if target[index] == 'no':\n",
    "            for attribute in range(len(specific_hypothesis)):\n",
    "                if sample[attribute] != specific_hypothesis[attribute]:\n",
    "                    general_hypothesis[attribute][attribute] = specific_hypothesis[attribute]\n",
    "                else:\n",
    "                    general_hypothesis[attribute][attribute] = '?'\n",
    "                    \n",
    "        print('Iteration: ', index)\n",
    "        print('General Hypothesis: ', general_hypothesis)\n",
    "        print('Specific Hypothesis: ', specific_hypothesis)\n",
    "    return general_hypothesis, specific_hypothesis\n",
    "g_h, s_h = learn(concepts, target, specific_hypothesis, general_hypothesis)\n",
    "print(\"-----------------------------------------------------------------------------------------\")\n",
    "print(g_h)\n",
    "print(\"-----------------------------------------------------------------------------------------\")\n",
    "print(s_h)"
   ]
  },
  {
   "cell_type": "code",
   "execution_count": null,
   "metadata": {},
   "outputs": [],
   "source": []
  }
 ],
 "metadata": {
  "kernelspec": {
   "display_name": "Python 3",
   "language": "python",
   "name": "python3"
  },
  "language_info": {
   "codemirror_mode": {
    "name": "ipython",
    "version": 3
   },
   "file_extension": ".py",
   "mimetype": "text/x-python",
   "name": "python",
   "nbconvert_exporter": "python",
   "pygments_lexer": "ipython3",
   "version": "3.9.7"
  }
 },
 "nbformat": 4,
 "nbformat_minor": 4
}
