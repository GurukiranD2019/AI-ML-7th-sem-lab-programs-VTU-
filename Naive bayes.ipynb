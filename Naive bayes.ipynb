{
 "cells": [
  {
   "cell_type": "code",
   "execution_count": 2,
   "id": "752c4399",
   "metadata": {},
   "outputs": [],
   "source": [
    "import numpy as np\n",
    "import csv"
   ]
  },
  {
   "cell_type": "code",
   "execution_count": 3,
   "id": "1eefc478",
   "metadata": {},
   "outputs": [],
   "source": [
    "def read_data(filename):\n",
    "    with open(filename, 'r') as csvfile:\n",
    "        datareader = csv.reader(csvfile)\n",
    "        metadata = next(datareader)\n",
    "        traindata=[]\n",
    "        for row in datareader:\n",
    "            traindata.append(row)\n",
    "        return (metadata, traindata)"
   ]
  },
  {
   "cell_type": "code",
   "execution_count": 4,
   "id": "cca73130",
   "metadata": {},
   "outputs": [],
   "source": [
    "def splitDataset (dataset, splitRatio):\n",
    "    trainSize = int(len(dataset) * splitRatio)\n",
    "    trainSet = []\n",
    "    testset = list(dataset)\n",
    "    i = 0\n",
    "    while len(trainSet) < trainSize:\n",
    "        trainSet.append(testset.pop(i))\n",
    "    return [trainSet, testset]"
   ]
  },
  {
   "cell_type": "code",
   "execution_count": 11,
   "id": "5ec1e496",
   "metadata": {},
   "outputs": [],
   "source": [
    "def classify(train, test):\n",
    "    \n",
    "    train_size = len(train)     # no of rows in train set\n",
    "    test_size = len(test)       # no of rows in test set\n",
    "    col_size = len(train[0]) # no of columns\n",
    "    print(\"\\n\")\n",
    "    print(\"training data size=\", train_size)\n",
    "    print(\"test data size=\", test_size)\n",
    "    \n",
    "    countYes = 0\n",
    "    countNo = 0\n",
    "    probYes = 0\n",
    "    probNo = 0\n",
    "    print(\"\\n\")\n",
    "    print(\"target count probability\")\n",
    "    \n",
    "    for row in range(train_size):\n",
    "        if train[row, -1] == 'yes' or 'Yes':\n",
    "            countYes += 1\n",
    "        if train[row, -1] == 'no' or 'No':\n",
    "            countNo += 1\n",
    "    \n",
    "    probYes = countYes / train_size\n",
    "    probNo = countNo / train_size\n",
    "                \n",
    "    print(\"Yes\", \"\\t\", countYes, \"\\t\", probYes)\n",
    "    print(\"No\", \"\\t\", countNo, \"\\t\", probNo)\n",
    "                \n",
    "    prob0 = np.zeros((col_size))\n",
    "    prob1 = np.zeros((col_size))\n",
    "    accuracy = 0\n",
    "    print(\"\\n\")\n",
    "    print(\"instance prediction target\")\n",
    "\n",
    "    for test_row in range(test_size):\n",
    "        for col in range(col_size):\n",
    "            count1 = count0 = 0\n",
    "            for train_row in range(train_size):\n",
    "                if test[test_row, col] == train[train_row, col] and train[train_row, -1] == 'no':\n",
    "                    count0 += 1\n",
    "                if test[test_row, col] == train[train_row, col] and train[train_row, -1] == 'yes':\n",
    "                    count1 += 1\n",
    "            prob0[col] = count0 / countNo\n",
    "            prob1[col] = count1 / countYes\n",
    "                                              \n",
    "        probno = probNo\n",
    "        probyes = probYes\n",
    "        for i in range(col_size):\n",
    "            probno = probno * prob0[i]\n",
    "            probyes = probyes * prob1[i]\n",
    "        if probno > probyes:\n",
    "            predict = 'no'\n",
    "        else:\n",
    "            predict = 'yes'\n",
    "        \n",
    "        \n",
    "        print(test_row+1,\"\\t\", predict, \"\\t    \", test[test_row, -1])\n",
    "        if predict.lower() == test[test_row, -1].lower():\n",
    "            accuracy += 1\n",
    "    \n",
    "    final_accuracy = (accuracy/test_size)*100\n",
    "    print(\"accuracy\", final_accuracy, \"%\")\n",
    "    return\n"
   ]
  },
  {
   "cell_type": "code",
   "execution_count": 12,
   "id": "840eceac",
   "metadata": {
    "scrolled": true
   },
   "outputs": [
    {
     "name": "stdout",
     "output_type": "stream",
     "text": [
      "\n",
      "\n",
      "training data size= 8\n",
      "test data size= 6\n",
      "\n",
      "\n",
      "target count probability\n",
      "Yes \t 8 \t 1.0\n",
      "No \t 8 \t 1.0\n",
      "\n",
      "\n",
      "instance prediction target\n",
      "1 \t yes \t     Yes\n",
      "2 \t yes \t     Yes\n",
      "3 \t yes \t     Yes\n",
      "4 \t yes \t     Yes\n",
      "5 \t yes \t     Yes\n",
      "6 \t yes \t     No\n",
      "accuracy 83.33333333333334 %\n"
     ]
    }
   ],
   "source": [
    "metadata, traindata = read_data(\"tennis.csv\")\n",
    "splitRatio = 0.6\n",
    "trainingset, testset = splitDataset(traindata, splitRatio)\n",
    "training = np.array(trainingset)\n",
    "# print(\"\\n The Training data set are:\")\n",
    "# for x in trainingset:\n",
    "#     print(x)\n",
    "    \n",
    "testing = np.array(testset)\n",
    "# print(\"\\n The Test data set are:\")\n",
    "# for x in testing:\n",
    "#     print(x)\n",
    "    \n",
    "classify(training, testing)\n",
    "    "
   ]
  },
  {
   "cell_type": "code",
   "execution_count": 10,
   "id": "12ddb626",
   "metadata": {},
   "outputs": [
    {
     "data": {
      "text/plain": [
       "5"
      ]
     },
     "execution_count": 10,
     "metadata": {},
     "output_type": "execute_result"
    }
   ],
   "source": [
    "len(training[0])"
   ]
  },
  {
   "cell_type": "code",
   "execution_count": 26,
   "id": "7a668627",
   "metadata": {},
   "outputs": [
    {
     "data": {
      "text/plain": [
       "8"
      ]
     },
     "execution_count": 26,
     "metadata": {},
     "output_type": "execute_result"
    }
   ],
   "source": [
    "training"
   ]
  },
  {
   "cell_type": "code",
   "execution_count": null,
   "id": "218ab327",
   "metadata": {},
   "outputs": [],
   "source": []
  },
  {
   "cell_type": "code",
   "execution_count": 46,
   "id": "8b13773c",
   "metadata": {},
   "outputs": [
    {
     "data": {
      "text/plain": [
       "4"
      ]
     },
     "execution_count": 46,
     "metadata": {},
     "output_type": "execute_result"
    }
   ],
   "source": [
    "training.shape[1]-1"
   ]
  },
  {
   "cell_type": "code",
   "execution_count": null,
   "id": "36d0cfb4",
   "metadata": {},
   "outputs": [],
   "source": []
  },
  {
   "cell_type": "code",
   "execution_count": null,
   "id": "b1907c75",
   "metadata": {},
   "outputs": [],
   "source": []
  }
 ],
 "metadata": {
  "kernelspec": {
   "display_name": "Python 3",
   "language": "python",
   "name": "python3"
  },
  "language_info": {
   "codemirror_mode": {
    "name": "ipython",
    "version": 3
   },
   "file_extension": ".py",
   "mimetype": "text/x-python",
   "name": "python",
   "nbconvert_exporter": "python",
   "pygments_lexer": "ipython3",
   "version": "3.9.7"
  }
 },
 "nbformat": 4,
 "nbformat_minor": 5
}
