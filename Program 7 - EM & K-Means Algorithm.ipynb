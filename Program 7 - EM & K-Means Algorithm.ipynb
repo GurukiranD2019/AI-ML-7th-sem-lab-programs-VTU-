{
 "cells": [
  {
   "cell_type": "code",
   "execution_count": 3,
   "metadata": {},
   "outputs": [
    {
     "name": "stdout",
     "output_type": "stream",
     "text": [
      "K-Mean:  0.5263157894736842\n",
      "EM Algorithm:  0.4473684210526316\n"
     ]
    }
   ],
   "source": [
    "from sklearn import datasets\n",
    "from sklearn import metrics\n",
    "from sklearn.cluster import KMeans\n",
    "from sklearn.model_selection import train_test_split\n",
    "iris = datasets.load_iris()\n",
    "# print(iris)\n",
    "X_train, X_test, y_train, y_test = train_test_split(iris.data, iris.target)\n",
    "model = KMeans(n_clusters=3)\n",
    "model.fit(X_train, y_train)\n",
    "# model.score\n",
    "print('K-Mean: ', metrics.accuracy_score(y_test, model.predict(X_test)))\n",
    "#-------Expectation and Maximization----------\n",
    "from sklearn.mixture import GaussianMixture\n",
    "model2 = GaussianMixture(n_components=3)\n",
    "model2.fit(X_train, y_train)\n",
    "# model2.score\n",
    "print('EM Algorithm: ', metrics.accuracy_score(y_test, model2.predict(X_test)))"
   ]
  },
  {
   "cell_type": "markdown",
   "metadata": {},
   "source": [
    "## Or "
   ]
  },
  {
   "cell_type": "code",
   "execution_count": 3,
   "metadata": {},
   "outputs": [
    {
     "name": "stdout",
     "output_type": "stream",
     "text": [
      "              precision    recall  f1-score   support\n",
      "\n",
      "      setosa       0.00      0.00      0.00        50\n",
      "  versicolor       0.00      0.00      0.00        50\n",
      "   virginica       0.95      0.72      0.82        50\n",
      "\n",
      "    accuracy                           0.24       150\n",
      "   macro avg       0.32      0.24      0.27       150\n",
      "weighted avg       0.32      0.24      0.27       150\n",
      "\n",
      "Confusion Matrix: \n",
      " [[ 0 50  0]\n",
      " [48  0  2]\n",
      " [14  0 36]]\n",
      "\n",
      "              precision    recall  f1-score   support\n",
      "\n",
      "      setosa       1.00      1.00      1.00        50\n",
      "  versicolor       1.00      0.90      0.95        50\n",
      "   virginica       0.91      1.00      0.95        50\n",
      "\n",
      "    accuracy                           0.97       150\n",
      "   macro avg       0.97      0.97      0.97       150\n",
      "weighted avg       0.97      0.97      0.97       150\n",
      "\n",
      "Confusion Matrix: \n",
      " [[50  0  0]\n",
      " [ 0 45  5]\n",
      " [ 0  0 50]]\n"
     ]
    }
   ],
   "source": [
    "import pandas as pd\n",
    "from sklearn.cluster import KMeans\n",
    "from sklearn.mixture import GaussianMixture\n",
    "from sklearn.metrics import classification_report, confusion_matrix\n",
    "from sklearn.datasets import load_iris\n",
    "\n",
    "iris = load_iris()\n",
    "\n",
    "X = pd.DataFrame(iris.data)\n",
    "y = iris.target\n",
    "\n",
    "kmeans = KMeans(n_clusters=3).fit(X)\n",
    "ypred = kmeans.predict(X)\n",
    "\n",
    "print(classification_report(y, ypred, target_names=iris.target_names))\n",
    "print(\"Confusion Matrix: \\n\", confusion_matrix(y, ypred))\n",
    "\n",
    "print()\n",
    "gmm = GaussianMixture(n_components = 3).fit(X)\n",
    "y_cluster_gmm = gmm.predict(X)\n",
    "print(classification_report(y, y_cluster_gmm, target_names = iris.target_names))\n",
    "print(\"Confusion Matrix: \\n\", confusion_matrix(y, y_cluster_gmm))\n",
    "\n",
    "# plt.figure(figsize=(14, 7))\n",
    "# colormap = np.array(['Red', 'Lime', 'Black'])\n",
    "# plt.subplot(1, 2, 1)\n",
    "# plt.title('KMeans clustering')\n",
    "# plt.scatter(X[2], X[3], c=colormap[ypred])\n",
    "# plt.subplot(1, 2, 2)\n",
    "# plt.title('GMM')\n",
    "# plt.scatter(X[2], X[3], c=colormap[y_cluster_gmm])"
   ]
  },
  {
   "cell_type": "code",
   "execution_count": null,
   "metadata": {},
   "outputs": [],
   "source": []
  }
 ],
 "metadata": {
  "kernelspec": {
   "display_name": "Python 3",
   "language": "python",
   "name": "python3"
  },
  "language_info": {
   "codemirror_mode": {
    "name": "ipython",
    "version": 3
   },
   "file_extension": ".py",
   "mimetype": "text/x-python",
   "name": "python",
   "nbconvert_exporter": "python",
   "pygments_lexer": "ipython3",
   "version": "3.9.7"
  }
 },
 "nbformat": 4,
 "nbformat_minor": 4
}
